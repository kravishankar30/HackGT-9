{
 "cells": [
  {
   "cell_type": "code",
   "execution_count": 122,
   "id": "1e7f2d3b-3d6b-4fae-97a7-42000a89af5c",
   "metadata": {},
   "outputs": [],
   "source": [
    "import pandas as pd\n",
    "import matplotlib.pyplot as plt\n",
    "#matplotlib.use('TkAgg')\n",
    "import sys\n",
    "import os"
   ]
  },
  {
   "cell_type": "code",
   "execution_count": 130,
   "id": "35fdd2f9-d78e-4c59-a6b9-4555483437e8",
   "metadata": {},
   "outputs": [],
   "source": [
    "def csvgrapher(csvName, plot, xaxis, yaxis):\n",
    "    na_vals = ['NA' ,'Missing', 'N.A', 'N.A.', 'Null', 'null', 'missing', 'None']\n",
    "#    try:\n",
    "    df = pd.read_csv(csvName, na_values = na_vals, sep=\",\", header = None)\n",
    "#    except:\n",
    "#        df = pd.read_csv(csvName, na_values = na_vals, sep=\";\", header = None)\n",
    "#    finally:\n",
    "    df.dropna(subset = [xaxis, yaxis], inplace = True, how = 'any')\n",
    "    if plot == 'scatter':\n",
    "        plt.scatter(df[xaxis], df[yaxis], edgecolor = 'black', linewidth = 0.5, alpha = 0.75)\n",
    "        plt.xlabel(xaxis)\n",
    "        plt.ylabel(yaxis)\n",
    "        plt.tight_layout()\n",
    "        plt.show()\n",
    "    elif plot == 'line plot':\n",
    "        plt.line(df[xaxis], df[yaxis],linewidth = 0.5)\n",
    "        plt.xlabel(xaxis)\n",
    "        plt.ylabel(yaxis)\n",
    "        plt.show()\n",
    "    elif plot == \"bar graph\":\n",
    "        plt.bar(df[xaxis],df[yaxis], edgecolor = \"black\")\n",
    "        plt.xlabel(xaxis)\n",
    "        plt.ylabel(yaxis)\n",
    "        plt.show()\n",
    "    elif plot == \"hist\":\n",
    "        plt.hist(df[xaxis],df[yaxis])    \n",
    "        plt.xlabel(xaxis)\n",
    "        plt.ylabel(yaxis)\n",
    "        plt.show()"
   ]
  },
  {
   "cell_type": "code",
   "execution_count": null,
   "id": "a994d7e2-1075-48e9-a5be-d0f55014091f",
   "metadata": {},
   "outputs": [],
   "source": []
  }
 ],
 "metadata": {
  "kernelspec": {
   "display_name": "Python 3 (ipykernel)",
   "language": "python",
   "name": "python3"
  },
  "language_info": {
   "codemirror_mode": {
    "name": "ipython",
    "version": 3
   },
   "file_extension": ".py",
   "mimetype": "text/x-python",
   "name": "python",
   "nbconvert_exporter": "python",
   "pygments_lexer": "ipython3",
   "version": "3.9.13"
  }
 },
 "nbformat": 4,
 "nbformat_minor": 5
}
